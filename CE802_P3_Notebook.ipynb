{
 "cells": [
  {
   "cell_type": "markdown",
   "id": "c0fffc43",
   "metadata": {},
   "source": [
    "# PART A"
   ]
  },
  {
   "cell_type": "code",
   "execution_count": 2,
   "id": "cdc565b0",
   "metadata": {},
   "outputs": [],
   "source": [
    "#Importing all Libraries\n",
    "import pandas as pd\n",
    "import numpy as np\n",
    "from sklearn.neighbors import KNeighborsClassifier\n",
    "from sklearn.impute import SimpleImputer\n",
    "from sklearn.model_selection import GridSearchCV\n",
    "from sklearn.model_selection import train_test_split\n",
    "from sklearn.preprocessing import StandardScaler\n",
    "import matplotlib.pyplot as plt\n",
    "from sklearn.metrics import mean_squared_error, r2_score,mean_absolute_error\n",
    "import seaborn as sns"
   ]
  },
  {
   "cell_type": "markdown",
   "id": "c3327134",
   "metadata": {},
   "source": [
    "# Exploratory Data Analysis"
   ]
  },
  {
   "cell_type": "code",
   "execution_count": 3,
   "id": "53cf52a9",
   "metadata": {},
   "outputs": [
    {
     "data": {
      "text/plain": [
       "(1500, 37)"
      ]
     },
     "execution_count": 3,
     "metadata": {},
     "output_type": "execute_result"
    }
   ],
   "source": [
    "#Loading the dataset\n",
    "df=pd.read_csv('CE802_P3_Data.csv')\n",
    "df.shape"
   ]
  },
  {
   "cell_type": "code",
   "execution_count": 5,
   "id": "2e208533",
   "metadata": {},
   "outputs": [],
   "source": [
    "# Converting Ordinal Variable Rating to numeric\n",
    "dummy_df = pd.get_dummies(df, columns=['F34'],drop_first=True)\n",
    "df=dummy_df.copy()"
   ]
  },
  {
   "cell_type": "code",
   "execution_count": 7,
   "id": "a5e9c08b",
   "metadata": {},
   "outputs": [
    {
     "name": "stdout",
     "output_type": "stream",
     "text": [
      "<class 'pandas.core.frame.DataFrame'>\n",
      "RangeIndex: 1500 entries, 0 to 1499\n",
      "Data columns (total 39 columns):\n",
      " #   Column    Non-Null Count  Dtype  \n",
      "---  ------    --------------  -----  \n",
      " 0   F1        1500 non-null   float64\n",
      " 1   F2        1500 non-null   float64\n",
      " 2   F3        1500 non-null   float64\n",
      " 3   F4        1500 non-null   float64\n",
      " 4   F5        1500 non-null   object \n",
      " 5   F6        1500 non-null   float64\n",
      " 6   F7        1500 non-null   float64\n",
      " 7   F8        1500 non-null   float64\n",
      " 8   F9        1500 non-null   float64\n",
      " 9   F10       1500 non-null   float64\n",
      " 10  F11       1500 non-null   float64\n",
      " 11  F12       1500 non-null   float64\n",
      " 12  F13       1500 non-null   float64\n",
      " 13  F14       1500 non-null   float64\n",
      " 14  F15       1500 non-null   float64\n",
      " 15  F16       1500 non-null   float64\n",
      " 16  F17       1500 non-null   float64\n",
      " 17  F18       1500 non-null   float64\n",
      " 18  F19       1500 non-null   float64\n",
      " 19  F20       1500 non-null   float64\n",
      " 20  F21       1500 non-null   float64\n",
      " 21  F22       1500 non-null   float64\n",
      " 22  F23       1500 non-null   float64\n",
      " 23  F24       1500 non-null   float64\n",
      " 24  F25       1500 non-null   float64\n",
      " 25  F26       1500 non-null   int64  \n",
      " 26  F27       1500 non-null   int64  \n",
      " 27  F28       1500 non-null   float64\n",
      " 28  F29       1500 non-null   float64\n",
      " 29  F30       1500 non-null   float64\n",
      " 30  F31       1500 non-null   float64\n",
      " 31  F32       1500 non-null   float64\n",
      " 32  F33       1500 non-null   float64\n",
      " 33  F35       1500 non-null   float64\n",
      " 34  F36       1500 non-null   float64\n",
      " 35  Target    1500 non-null   float64\n",
      " 36  F34_Rest  1500 non-null   uint8  \n",
      " 37  F34_UK    1500 non-null   uint8  \n",
      " 38  F34_USA   1500 non-null   uint8  \n",
      "dtypes: float64(33), int64(2), object(1), uint8(3)\n",
      "memory usage: 420.5+ KB\n"
     ]
    }
   ],
   "source": [
    "df.info()"
   ]
  },
  {
   "cell_type": "code",
   "execution_count": 8,
   "id": "19a94f3a",
   "metadata": {},
   "outputs": [],
   "source": [
    "#Replacing string to numerical variable\n",
    "df['F5'].replace(['Very low', 'Low','Medium','High','Very high'],[0,1,2,3,4], inplace= True)"
   ]
  },
  {
   "cell_type": "code",
   "execution_count": 9,
   "id": "a6dfb7a0",
   "metadata": {},
   "outputs": [
    {
     "data": {
      "text/html": [
       "<div>\n",
       "<style scoped>\n",
       "    .dataframe tbody tr th:only-of-type {\n",
       "        vertical-align: middle;\n",
       "    }\n",
       "\n",
       "    .dataframe tbody tr th {\n",
       "        vertical-align: top;\n",
       "    }\n",
       "\n",
       "    .dataframe thead th {\n",
       "        text-align: right;\n",
       "    }\n",
       "</style>\n",
       "<table border=\"1\" class=\"dataframe\">\n",
       "  <thead>\n",
       "    <tr style=\"text-align: right;\">\n",
       "      <th></th>\n",
       "      <th>F1</th>\n",
       "      <th>F2</th>\n",
       "      <th>F3</th>\n",
       "      <th>F4</th>\n",
       "      <th>F5</th>\n",
       "      <th>F6</th>\n",
       "      <th>F7</th>\n",
       "      <th>F8</th>\n",
       "      <th>F9</th>\n",
       "      <th>F10</th>\n",
       "      <th>...</th>\n",
       "      <th>F30</th>\n",
       "      <th>F31</th>\n",
       "      <th>F32</th>\n",
       "      <th>F33</th>\n",
       "      <th>F35</th>\n",
       "      <th>F36</th>\n",
       "      <th>Target</th>\n",
       "      <th>F34_Rest</th>\n",
       "      <th>F34_UK</th>\n",
       "      <th>F34_USA</th>\n",
       "    </tr>\n",
       "  </thead>\n",
       "  <tbody>\n",
       "    <tr>\n",
       "      <th>0</th>\n",
       "      <td>25.46</td>\n",
       "      <td>-225.08</td>\n",
       "      <td>-177.02</td>\n",
       "      <td>137.97</td>\n",
       "      <td>4</td>\n",
       "      <td>4.08</td>\n",
       "      <td>-140.19</td>\n",
       "      <td>15882.39</td>\n",
       "      <td>-3728.44</td>\n",
       "      <td>-145.22</td>\n",
       "      <td>...</td>\n",
       "      <td>-76.74</td>\n",
       "      <td>-2.16</td>\n",
       "      <td>4.84</td>\n",
       "      <td>20.70</td>\n",
       "      <td>-413.31</td>\n",
       "      <td>-1451.18</td>\n",
       "      <td>3179.17</td>\n",
       "      <td>0</td>\n",
       "      <td>0</td>\n",
       "      <td>1</td>\n",
       "    </tr>\n",
       "    <tr>\n",
       "      <th>1</th>\n",
       "      <td>60.52</td>\n",
       "      <td>-209.14</td>\n",
       "      <td>-202.85</td>\n",
       "      <td>85.50</td>\n",
       "      <td>4</td>\n",
       "      <td>16.80</td>\n",
       "      <td>-248.01</td>\n",
       "      <td>10796.76</td>\n",
       "      <td>-2575.88</td>\n",
       "      <td>-233.30</td>\n",
       "      <td>...</td>\n",
       "      <td>-55.38</td>\n",
       "      <td>-3.84</td>\n",
       "      <td>11.47</td>\n",
       "      <td>20.94</td>\n",
       "      <td>-242.97</td>\n",
       "      <td>-1583.66</td>\n",
       "      <td>2784.99</td>\n",
       "      <td>0</td>\n",
       "      <td>0</td>\n",
       "      <td>0</td>\n",
       "    </tr>\n",
       "    <tr>\n",
       "      <th>2</th>\n",
       "      <td>9.27</td>\n",
       "      <td>-319.00</td>\n",
       "      <td>-185.33</td>\n",
       "      <td>61.49</td>\n",
       "      <td>1</td>\n",
       "      <td>9.12</td>\n",
       "      <td>-151.20</td>\n",
       "      <td>8993.31</td>\n",
       "      <td>-4532.70</td>\n",
       "      <td>-176.56</td>\n",
       "      <td>...</td>\n",
       "      <td>-82.86</td>\n",
       "      <td>-12.90</td>\n",
       "      <td>1.95</td>\n",
       "      <td>17.37</td>\n",
       "      <td>-257.25</td>\n",
       "      <td>-1360.91</td>\n",
       "      <td>1174.61</td>\n",
       "      <td>0</td>\n",
       "      <td>0</td>\n",
       "      <td>0</td>\n",
       "    </tr>\n",
       "    <tr>\n",
       "      <th>3</th>\n",
       "      <td>-41.74</td>\n",
       "      <td>-233.16</td>\n",
       "      <td>-206.10</td>\n",
       "      <td>114.58</td>\n",
       "      <td>4</td>\n",
       "      <td>19.23</td>\n",
       "      <td>-161.76</td>\n",
       "      <td>8527.65</td>\n",
       "      <td>-4896.54</td>\n",
       "      <td>-108.32</td>\n",
       "      <td>...</td>\n",
       "      <td>-62.67</td>\n",
       "      <td>-9.26</td>\n",
       "      <td>16.53</td>\n",
       "      <td>16.41</td>\n",
       "      <td>-419.46</td>\n",
       "      <td>-744.03</td>\n",
       "      <td>453.84</td>\n",
       "      <td>0</td>\n",
       "      <td>0</td>\n",
       "      <td>0</td>\n",
       "    </tr>\n",
       "    <tr>\n",
       "      <th>4</th>\n",
       "      <td>68.15</td>\n",
       "      <td>-279.80</td>\n",
       "      <td>-172.72</td>\n",
       "      <td>95.61</td>\n",
       "      <td>0</td>\n",
       "      <td>12.33</td>\n",
       "      <td>-162.03</td>\n",
       "      <td>17019.57</td>\n",
       "      <td>-4590.98</td>\n",
       "      <td>-143.82</td>\n",
       "      <td>...</td>\n",
       "      <td>-76.35</td>\n",
       "      <td>-11.68</td>\n",
       "      <td>13.95</td>\n",
       "      <td>18.87</td>\n",
       "      <td>-353.49</td>\n",
       "      <td>-1026.62</td>\n",
       "      <td>-402.80</td>\n",
       "      <td>0</td>\n",
       "      <td>1</td>\n",
       "      <td>0</td>\n",
       "    </tr>\n",
       "    <tr>\n",
       "      <th>...</th>\n",
       "      <td>...</td>\n",
       "      <td>...</td>\n",
       "      <td>...</td>\n",
       "      <td>...</td>\n",
       "      <td>...</td>\n",
       "      <td>...</td>\n",
       "      <td>...</td>\n",
       "      <td>...</td>\n",
       "      <td>...</td>\n",
       "      <td>...</td>\n",
       "      <td>...</td>\n",
       "      <td>...</td>\n",
       "      <td>...</td>\n",
       "      <td>...</td>\n",
       "      <td>...</td>\n",
       "      <td>...</td>\n",
       "      <td>...</td>\n",
       "      <td>...</td>\n",
       "      <td>...</td>\n",
       "      <td>...</td>\n",
       "      <td>...</td>\n",
       "    </tr>\n",
       "    <tr>\n",
       "      <th>1495</th>\n",
       "      <td>70.79</td>\n",
       "      <td>-225.74</td>\n",
       "      <td>-201.90</td>\n",
       "      <td>162.08</td>\n",
       "      <td>1</td>\n",
       "      <td>11.04</td>\n",
       "      <td>-148.25</td>\n",
       "      <td>7794.72</td>\n",
       "      <td>-4582.26</td>\n",
       "      <td>-180.58</td>\n",
       "      <td>...</td>\n",
       "      <td>-78.15</td>\n",
       "      <td>-5.34</td>\n",
       "      <td>10.01</td>\n",
       "      <td>15.35</td>\n",
       "      <td>-79.23</td>\n",
       "      <td>-905.29</td>\n",
       "      <td>53.25</td>\n",
       "      <td>1</td>\n",
       "      <td>0</td>\n",
       "      <td>0</td>\n",
       "    </tr>\n",
       "    <tr>\n",
       "      <th>1496</th>\n",
       "      <td>59.05</td>\n",
       "      <td>-214.08</td>\n",
       "      <td>-128.57</td>\n",
       "      <td>110.34</td>\n",
       "      <td>3</td>\n",
       "      <td>-8.28</td>\n",
       "      <td>-175.39</td>\n",
       "      <td>6060.99</td>\n",
       "      <td>-6426.56</td>\n",
       "      <td>-192.32</td>\n",
       "      <td>...</td>\n",
       "      <td>-82.47</td>\n",
       "      <td>-10.34</td>\n",
       "      <td>11.87</td>\n",
       "      <td>14.45</td>\n",
       "      <td>-201.72</td>\n",
       "      <td>-1895.12</td>\n",
       "      <td>1187.95</td>\n",
       "      <td>0</td>\n",
       "      <td>1</td>\n",
       "      <td>0</td>\n",
       "    </tr>\n",
       "    <tr>\n",
       "      <th>1497</th>\n",
       "      <td>243.56</td>\n",
       "      <td>-174.58</td>\n",
       "      <td>-263.71</td>\n",
       "      <td>84.18</td>\n",
       "      <td>3</td>\n",
       "      <td>7.98</td>\n",
       "      <td>-150.14</td>\n",
       "      <td>20032.29</td>\n",
       "      <td>-4297.92</td>\n",
       "      <td>-117.52</td>\n",
       "      <td>...</td>\n",
       "      <td>-78.84</td>\n",
       "      <td>-8.90</td>\n",
       "      <td>7.26</td>\n",
       "      <td>25.31</td>\n",
       "      <td>-351.69</td>\n",
       "      <td>-1088.71</td>\n",
       "      <td>3770.53</td>\n",
       "      <td>0</td>\n",
       "      <td>0</td>\n",
       "      <td>1</td>\n",
       "    </tr>\n",
       "    <tr>\n",
       "      <th>1498</th>\n",
       "      <td>50.60</td>\n",
       "      <td>-210.96</td>\n",
       "      <td>-147.14</td>\n",
       "      <td>115.88</td>\n",
       "      <td>1</td>\n",
       "      <td>16.80</td>\n",
       "      <td>-231.52</td>\n",
       "      <td>8320.47</td>\n",
       "      <td>-3040.20</td>\n",
       "      <td>-208.70</td>\n",
       "      <td>...</td>\n",
       "      <td>-87.18</td>\n",
       "      <td>-3.12</td>\n",
       "      <td>4.50</td>\n",
       "      <td>19.78</td>\n",
       "      <td>-370.32</td>\n",
       "      <td>-1875.01</td>\n",
       "      <td>653.00</td>\n",
       "      <td>0</td>\n",
       "      <td>0</td>\n",
       "      <td>0</td>\n",
       "    </tr>\n",
       "    <tr>\n",
       "      <th>1499</th>\n",
       "      <td>60.64</td>\n",
       "      <td>-414.12</td>\n",
       "      <td>-209.13</td>\n",
       "      <td>100.20</td>\n",
       "      <td>3</td>\n",
       "      <td>2.37</td>\n",
       "      <td>-141.84</td>\n",
       "      <td>4745.58</td>\n",
       "      <td>-3767.54</td>\n",
       "      <td>-204.52</td>\n",
       "      <td>...</td>\n",
       "      <td>-75.33</td>\n",
       "      <td>-3.16</td>\n",
       "      <td>6.55</td>\n",
       "      <td>17.21</td>\n",
       "      <td>-500.67</td>\n",
       "      <td>-1488.03</td>\n",
       "      <td>975.87</td>\n",
       "      <td>1</td>\n",
       "      <td>0</td>\n",
       "      <td>0</td>\n",
       "    </tr>\n",
       "  </tbody>\n",
       "</table>\n",
       "<p>1500 rows × 39 columns</p>\n",
       "</div>"
      ],
      "text/plain": [
       "          F1      F2      F3      F4  F5     F6      F7        F8       F9  \\\n",
       "0      25.46 -225.08 -177.02  137.97   4   4.08 -140.19  15882.39 -3728.44   \n",
       "1      60.52 -209.14 -202.85   85.50   4  16.80 -248.01  10796.76 -2575.88   \n",
       "2       9.27 -319.00 -185.33   61.49   1   9.12 -151.20   8993.31 -4532.70   \n",
       "3     -41.74 -233.16 -206.10  114.58   4  19.23 -161.76   8527.65 -4896.54   \n",
       "4      68.15 -279.80 -172.72   95.61   0  12.33 -162.03  17019.57 -4590.98   \n",
       "...      ...     ...     ...     ...  ..    ...     ...       ...      ...   \n",
       "1495   70.79 -225.74 -201.90  162.08   1  11.04 -148.25   7794.72 -4582.26   \n",
       "1496   59.05 -214.08 -128.57  110.34   3  -8.28 -175.39   6060.99 -6426.56   \n",
       "1497  243.56 -174.58 -263.71   84.18   3   7.98 -150.14  20032.29 -4297.92   \n",
       "1498   50.60 -210.96 -147.14  115.88   1  16.80 -231.52   8320.47 -3040.20   \n",
       "1499   60.64 -414.12 -209.13  100.20   3   2.37 -141.84   4745.58 -3767.54   \n",
       "\n",
       "         F10  ...    F30    F31    F32    F33     F35      F36   Target  \\\n",
       "0    -145.22  ... -76.74  -2.16   4.84  20.70 -413.31 -1451.18  3179.17   \n",
       "1    -233.30  ... -55.38  -3.84  11.47  20.94 -242.97 -1583.66  2784.99   \n",
       "2    -176.56  ... -82.86 -12.90   1.95  17.37 -257.25 -1360.91  1174.61   \n",
       "3    -108.32  ... -62.67  -9.26  16.53  16.41 -419.46  -744.03   453.84   \n",
       "4    -143.82  ... -76.35 -11.68  13.95  18.87 -353.49 -1026.62  -402.80   \n",
       "...      ...  ...    ...    ...    ...    ...     ...      ...      ...   \n",
       "1495 -180.58  ... -78.15  -5.34  10.01  15.35  -79.23  -905.29    53.25   \n",
       "1496 -192.32  ... -82.47 -10.34  11.87  14.45 -201.72 -1895.12  1187.95   \n",
       "1497 -117.52  ... -78.84  -8.90   7.26  25.31 -351.69 -1088.71  3770.53   \n",
       "1498 -208.70  ... -87.18  -3.12   4.50  19.78 -370.32 -1875.01   653.00   \n",
       "1499 -204.52  ... -75.33  -3.16   6.55  17.21 -500.67 -1488.03   975.87   \n",
       "\n",
       "      F34_Rest  F34_UK  F34_USA  \n",
       "0            0       0        1  \n",
       "1            0       0        0  \n",
       "2            0       0        0  \n",
       "3            0       0        0  \n",
       "4            0       1        0  \n",
       "...        ...     ...      ...  \n",
       "1495         1       0        0  \n",
       "1496         0       1        0  \n",
       "1497         0       0        1  \n",
       "1498         0       0        0  \n",
       "1499         1       0        0  \n",
       "\n",
       "[1500 rows x 39 columns]"
      ]
     },
     "execution_count": 9,
     "metadata": {},
     "output_type": "execute_result"
    }
   ],
   "source": [
    "df.drop_duplicates()"
   ]
  },
  {
   "cell_type": "code",
   "execution_count": 10,
   "id": "df3c1c34",
   "metadata": {},
   "outputs": [
    {
     "data": {
      "image/png": "[encoded data removed]",
      "text/plain": [
       "<Figure size 432x288 with 1 Axes>"
      ]
     },
     "metadata": {
      "needs_background": "light"
     },
     "output_type": "display_data"
    }
   ],
   "source": [
    "\n",
    "import statsmodels.api as sm\n",
    "import matplotlib.pyplot as plt\n",
    "\n",
    "#create Q-Q plot with 45-degree line added to plot\n",
    "fig = sm.qqplot(df, line='45')\n",
    "plt.show()\n"
   ]
  },
  {
   "cell_type": "code",
   "execution_count": 11,
   "id": "15f173cf",
   "metadata": {},
   "outputs": [],
   "source": [
    "#Scaling of features\n",
    "from scipy.stats import zscore\n",
    "scaled_data = df.apply(zscore)"
   ]
  },
  {
   "cell_type": "code",
   "execution_count": 12,
   "id": "8f8dd800",
   "metadata": {},
   "outputs": [],
   "source": [
    "x1 = scaled_data.drop(['Target'], axis=1)\n",
    "y1= scaled_data['Target']"
   ]
  },
  {
   "cell_type": "markdown",
   "id": "ce91ad18",
   "metadata": {},
   "source": [
    "# Splitting the dataset into Train and Test"
   ]
  },
  {
   "cell_type": "code",
   "execution_count": 13,
   "id": "013d00c3",
   "metadata": {},
   "outputs": [],
   "source": [
    "from sklearn.model_selection import train_test_split\n",
    "x_train, x_test, y_train, y_test = train_test_split(x1, y1, test_size = 0.2, random_state = 100)"
   ]
  },
  {
   "cell_type": "markdown",
   "id": "edab0eb0",
   "metadata": {},
   "source": [
    "#  PART 3A"
   ]
  },
  {
   "cell_type": "markdown",
   "id": "04e18277",
   "metadata": {},
   "source": [
    "#    LINEAR REGRESSION"
   ]
  },
  {
   "cell_type": "code",
   "execution_count": 16,
   "id": "b297ea8e",
   "metadata": {},
   "outputs": [
    {
     "data": {
      "text/html": [
       "<style>#sk-container-id-1 {color: black;background-color: white;}#sk-container-id-1 pre{padding: 0;}#sk-container-id-1 div.sk-toggleable {background-color: white;}#sk-container-id-1 label.sk-toggleable__label {cursor: pointer;display: block;width: 100%;margin-bottom: 0;padding: 0.3em;box-sizing: border-box;text-align: center;}#sk-container-id-1 label.sk-toggleable__label-arrow:before {content: \"▸\";float: left;margin-right: 0.25em;color: #696969;}#sk-container-id-1 label.sk-toggleable__label-arrow:hover:before {color: black;}#sk-container-id-1 div.sk-estimator:hover label.sk-toggleable__label-arrow:before {color: black;}#sk-container-id-1 div.sk-toggleable__content {max-height: 0;max-width: 0;overflow: hidden;text-align: left;background-color: #f0f8ff;}#sk-container-id-1 div.sk-toggleable__content pre {margin: 0.2em;color: black;border-radius: 0.25em;background-color: #f0f8ff;}#sk-container-id-1 input.sk-toggleable__control:checked~div.sk-toggleable__content {max-height: 200px;max-width: 100%;overflow: auto;}#sk-container-id-1 input.sk-toggleable__control:checked~label.sk-toggleable__label-arrow:before {content: \"▾\";}#sk-container-id-1 div.sk-estimator input.sk-toggleable__control:checked~label.sk-toggleable__label {background-color: #d4ebff;}#sk-container-id-1 div.sk-label input.sk-toggleable__control:checked~label.sk-toggleable__label {background-color: #d4ebff;}#sk-container-id-1 input.sk-hidden--visually {border: 0;clip: rect(1px 1px 1px 1px);clip: rect(1px, 1px, 1px, 1px);height: 1px;margin: -1px;overflow: hidden;padding: 0;position: absolute;width: 1px;}#sk-container-id-1 div.sk-estimator {font-family: monospace;background-color: #f0f8ff;border: 1px dotted black;border-radius: 0.25em;box-sizing: border-box;margin-bottom: 0.5em;}#sk-container-id-1 div.sk-estimator:hover {background-color: #d4ebff;}#sk-container-id-1 div.sk-parallel-item::after {content: \"\";width: 100%;border-bottom: 1px solid gray;flex-grow: 1;}#sk-container-id-1 div.sk-label:hover label.sk-toggleable__label {background-color: #d4ebff;}#sk-container-id-1 div.sk-serial::before {content: \"\";position: absolute;border-left: 1px solid gray;box-sizing: border-box;top: 0;bottom: 0;left: 50%;z-index: 0;}#sk-container-id-1 div.sk-serial {display: flex;flex-direction: column;align-items: center;background-color: white;padding-right: 0.2em;padding-left: 0.2em;position: relative;}#sk-container-id-1 div.sk-item {position: relative;z-index: 1;}#sk-container-id-1 div.sk-parallel {display: flex;align-items: stretch;justify-content: center;background-color: white;position: relative;}#sk-container-id-1 div.sk-item::before, #sk-container-id-1 div.sk-parallel-item::before {content: \"\";position: absolute;border-left: 1px solid gray;box-sizing: border-box;top: 0;bottom: 0;left: 50%;z-index: -1;}#sk-container-id-1 div.sk-parallel-item {display: flex;flex-direction: column;z-index: 1;position: relative;background-color: white;}#sk-container-id-1 div.sk-parallel-item:first-child::after {align-self: flex-end;width: 50%;}#sk-container-id-1 div.sk-parallel-item:last-child::after {align-self: flex-start;width: 50%;}#sk-container-id-1 div.sk-parallel-item:only-child::after {width: 0;}#sk-container-id-1 div.sk-dashed-wrapped {border: 1px dashed gray;margin: 0 0.4em 0.5em 0.4em;box-sizing: border-box;padding-bottom: 0.4em;background-color: white;}#sk-container-id-1 div.sk-label label {font-family: monospace;font-weight: bold;display: inline-block;line-height: 1.2em;}#sk-container-id-1 div.sk-label-container {text-align: center;}#sk-container-id-1 div.sk-container {/* jupyter's `normalize.less` sets `[hidden] { display: none; }` but bootstrap.min.css set `[hidden] { display: none !important; }` so we also need the `!important` here to be able to override the default hidden behavior on the sphinx rendered scikit-learn.org. See: https://github.com/scikit-learn/scikit-learn/issues/21755 */display: inline-block !important;position: relative;}#sk-container-id-1 div.sk-text-repr-fallback {display: none;}</style><div id=\"sk-container-id-1\" class=\"sk-top-container\"><div class=\"sk-text-repr-fallback\"><pre>LinearRegression()</pre><b>In a Jupyter environment, please rerun this cell to show the HTML representation or trust the notebook. <br />On GitHub, the HTML representation is unable to render, please try loading this page with nbviewer.org.</b></div><div class=\"sk-container\" hidden><div class=\"sk-item\"><div class=\"sk-estimator sk-toggleable\"><input class=\"sk-toggleable__control sk-hidden--visually\" id=\"sk-estimator-id-1\" type=\"checkbox\" checked><label for=\"sk-estimator-id-1\" class=\"sk-toggleable__label sk-toggleable__label-arrow\">LinearRegression</label><div class=\"sk-toggleable__content\"><pre>LinearRegression()</pre></div></div></div></div></div>"
      ],
      "text/plain": [
       "LinearRegression()"
      ]
     },
     "execution_count": 16,
     "metadata": {},
     "output_type": "execute_result"
    }
   ],
   "source": [
    "#Cross validation being performed to achieve best hyperparameters\n",
    "from sklearn.linear_model import LinearRegression\n",
    "lr=LinearRegression()\n",
    "lr.fit(x_train,y_train)"
   ]
  },
  {
   "cell_type": "markdown",
   "id": "18313100",
   "metadata": {},
   "source": [
    "# Model Performance"
   ]
  },
  {
   "cell_type": "code",
   "execution_count": 75,
   "id": "85cecba7",
   "metadata": {},
   "outputs": [
    {
     "name": "stdout",
     "output_type": "stream",
     "text": [
      "R2_Score 0.715180387679268\n",
      "Mean_Squared_Error 0.26204503318207095\n",
      "Mean_Absolute_Error 0.4128957436887381\n"
     ]
    }
   ],
   "source": [
    "y_pred=lr.predict(x_test)\n",
    "lr_r2=r2_score(y_test,y_pred)\n",
    "print(\"R2_Score\",lr_r2)\n",
    "lr_mse=mean_squared_error(y_test,y_pred)\n",
    "print(\"Mean_Squared_Error\",lr_mse)\n",
    "lr_mae=mean_absolute_error(y_test,y_pred)\n",
    "print(\"Mean_Absolute_Error\",lr_mae)"
   ]
  },
  {
   "cell_type": "markdown",
   "id": "5cc1de8c",
   "metadata": {},
   "source": [
    "# PART 3B"
   ]
  },
  {
   "cell_type": "markdown",
   "id": "5f98ef90",
   "metadata": {},
   "source": [
    "# LASSO REGRESSION"
   ]
  },
  {
   "cell_type": "code",
   "execution_count": 54,
   "id": "3a74b91b",
   "metadata": {},
   "outputs": [
    {
     "data": {
      "text/html": [
       "<style>#sk-container-id-4 {color: black;background-color: white;}#sk-container-id-4 pre{padding: 0;}#sk-container-id-4 div.sk-toggleable {background-color: white;}#sk-container-id-4 label.sk-toggleable__label {cursor: pointer;display: block;width: 100%;margin-bottom: 0;padding: 0.3em;box-sizing: border-box;text-align: center;}#sk-container-id-4 label.sk-toggleable__label-arrow:before {content: \"▸\";float: left;margin-right: 0.25em;color: #696969;}#sk-container-id-4 label.sk-toggleable__label-arrow:hover:before {color: black;}#sk-container-id-4 div.sk-estimator:hover label.sk-toggleable__label-arrow:before {color: black;}#sk-container-id-4 div.sk-toggleable__content {max-height: 0;max-width: 0;overflow: hidden;text-align: left;background-color: #f0f8ff;}#sk-container-id-4 div.sk-toggleable__content pre {margin: 0.2em;color: black;border-radius: 0.25em;background-color: #f0f8ff;}#sk-container-id-4 input.sk-toggleable__control:checked~div.sk-toggleable__content {max-height: 200px;max-width: 100%;overflow: auto;}#sk-container-id-4 input.sk-toggleable__control:checked~label.sk-toggleable__label-arrow:before {content: \"▾\";}#sk-container-id-4 div.sk-estimator input.sk-toggleable__control:checked~label.sk-toggleable__label {background-color: #d4ebff;}#sk-container-id-4 div.sk-label input.sk-toggleable__control:checked~label.sk-toggleable__label {background-color: #d4ebff;}#sk-container-id-4 input.sk-hidden--visually {border: 0;clip: rect(1px 1px 1px 1px);clip: rect(1px, 1px, 1px, 1px);height: 1px;margin: -1px;overflow: hidden;padding: 0;position: absolute;width: 1px;}#sk-container-id-4 div.sk-estimator {font-family: monospace;background-color: #f0f8ff;border: 1px dotted black;border-radius: 0.25em;box-sizing: border-box;margin-bottom: 0.5em;}#sk-container-id-4 div.sk-estimator:hover {background-color: #d4ebff;}#sk-container-id-4 div.sk-parallel-item::after {content: \"\";width: 100%;border-bottom: 1px solid gray;flex-grow: 1;}#sk-container-id-4 div.sk-label:hover label.sk-toggleable__label {background-color: #d4ebff;}#sk-container-id-4 div.sk-serial::before {content: \"\";position: absolute;border-left: 1px solid gray;box-sizing: border-box;top: 0;bottom: 0;left: 50%;z-index: 0;}#sk-container-id-4 div.sk-serial {display: flex;flex-direction: column;align-items: center;background-color: white;padding-right: 0.2em;padding-left: 0.2em;position: relative;}#sk-container-id-4 div.sk-item {position: relative;z-index: 1;}#sk-container-id-4 div.sk-parallel {display: flex;align-items: stretch;justify-content: center;background-color: white;position: relative;}#sk-container-id-4 div.sk-item::before, #sk-container-id-4 div.sk-parallel-item::before {content: \"\";position: absolute;border-left: 1px solid gray;box-sizing: border-box;top: 0;bottom: 0;left: 50%;z-index: -1;}#sk-container-id-4 div.sk-parallel-item {display: flex;flex-direction: column;z-index: 1;position: relative;background-color: white;}#sk-container-id-4 div.sk-parallel-item:first-child::after {align-self: flex-end;width: 50%;}#sk-container-id-4 div.sk-parallel-item:last-child::after {align-self: flex-start;width: 50%;}#sk-container-id-4 div.sk-parallel-item:only-child::after {width: 0;}#sk-container-id-4 div.sk-dashed-wrapped {border: 1px dashed gray;margin: 0 0.4em 0.5em 0.4em;box-sizing: border-box;padding-bottom: 0.4em;background-color: white;}#sk-container-id-4 div.sk-label label {font-family: monospace;font-weight: bold;display: inline-block;line-height: 1.2em;}#sk-container-id-4 div.sk-label-container {text-align: center;}#sk-container-id-4 div.sk-container {/* jupyter's `normalize.less` sets `[hidden] { display: none; }` but bootstrap.min.css set `[hidden] { display: none !important; }` so we also need the `!important` here to be able to override the default hidden behavior on the sphinx rendered scikit-learn.org. See: https://github.com/scikit-learn/scikit-learn/issues/21755 */display: inline-block !important;position: relative;}#sk-container-id-4 div.sk-text-repr-fallback {display: none;}</style><div id=\"sk-container-id-4\" class=\"sk-top-container\"><div class=\"sk-text-repr-fallback\"><pre>GridSearchCV(cv=5, estimator=Lasso(),\n",
       "             param_grid={&#x27;alpha&#x27;: [0.01, 0.02, 0.2, 0.5, 0.6, 0.7, 0.8, 1, 20,\n",
       "                                   30]})</pre><b>In a Jupyter environment, please rerun this cell to show the HTML representation or trust the notebook. <br />On GitHub, the HTML representation is unable to render, please try loading this page with nbviewer.org.</b></div><div class=\"sk-container\" hidden><div class=\"sk-item sk-dashed-wrapped\"><div class=\"sk-label-container\"><div class=\"sk-label sk-toggleable\"><input class=\"sk-toggleable__control sk-hidden--visually\" id=\"sk-estimator-id-8\" type=\"checkbox\" ><label for=\"sk-estimator-id-8\" class=\"sk-toggleable__label sk-toggleable__label-arrow\">GridSearchCV</label><div class=\"sk-toggleable__content\"><pre>GridSearchCV(cv=5, estimator=Lasso(),\n",
       "             param_grid={&#x27;alpha&#x27;: [0.01, 0.02, 0.2, 0.5, 0.6, 0.7, 0.8, 1, 20,\n",
       "                                   30]})</pre></div></div></div><div class=\"sk-parallel\"><div class=\"sk-parallel-item\"><div class=\"sk-item\"><div class=\"sk-label-container\"><div class=\"sk-label sk-toggleable\"><input class=\"sk-toggleable__control sk-hidden--visually\" id=\"sk-estimator-id-9\" type=\"checkbox\" ><label for=\"sk-estimator-id-9\" class=\"sk-toggleable__label sk-toggleable__label-arrow\">estimator: Lasso</label><div class=\"sk-toggleable__content\"><pre>Lasso()</pre></div></div></div><div class=\"sk-serial\"><div class=\"sk-item\"><div class=\"sk-estimator sk-toggleable\"><input class=\"sk-toggleable__control sk-hidden--visually\" id=\"sk-estimator-id-10\" type=\"checkbox\" ><label for=\"sk-estimator-id-10\" class=\"sk-toggleable__label sk-toggleable__label-arrow\">Lasso</label><div class=\"sk-toggleable__content\"><pre>Lasso()</pre></div></div></div></div></div></div></div></div></div></div>"
      ],
      "text/plain": [
       "GridSearchCV(cv=5, estimator=Lasso(),\n",
       "             param_grid={'alpha': [0.01, 0.02, 0.2, 0.5, 0.6, 0.7, 0.8, 1, 20,\n",
       "                                   30]})"
      ]
     },
     "execution_count": 54,
     "metadata": {},
     "output_type": "execute_result"
    }
   ],
   "source": [
    "#Cross validation being performed to achieve best hyperparameters\n",
    "from sklearn.linear_model import Lasso\n",
    "\n",
    "parameter={'alpha':[0.01,0.02,0.2,0.5,0.6,0.7,0.8,1,20,30]}\n",
    "lasso_reg=Lasso()\n",
    "grid_las= GridSearchCV(estimator=lasso_reg, param_grid=parameter, cv=5)\n",
    "grid_las.fit(x_train,y_train)\n"
   ]
  },
  {
   "cell_type": "code",
   "execution_count": 55,
   "id": "2e39d2d2",
   "metadata": {},
   "outputs": [
    {
     "data": {
      "text/plain": [
       "{'alpha': 0.02}"
      ]
     },
     "execution_count": 55,
     "metadata": {},
     "output_type": "execute_result"
    }
   ],
   "source": [
    "grid_las.best_params_"
   ]
  },
  {
   "cell_type": "markdown",
   "id": "4acba8c2",
   "metadata": {},
   "source": [
    "# Model Performance"
   ]
  },
  {
   "cell_type": "code",
   "execution_count": 74,
   "id": "b4acb11d",
   "metadata": {},
   "outputs": [
    {
     "name": "stdout",
     "output_type": "stream",
     "text": [
      "R2_Score 0.7079864429439873\n",
      "Mean_Squared_Error 0.2686637399189644\n",
      "Mean_Absolute_Error 0.4177815071129089\n"
     ]
    }
   ],
   "source": [
    "y_pred=grid_las.predict(x_test)\n",
    "las_r2=r2_score(y_test,y_pred)\n",
    "print(\"R2_Score\",las_r2)\n",
    "las_mse=mean_squared_error(y_test,y_pred)\n",
    "print(\"Mean_Squared_Error\",las_mse)\n",
    "las_mae=mean_absolute_error(y_test,y_pred)\n",
    "print(\"Mean_Absolute_Error\",las_mae)"
   ]
  },
  {
   "cell_type": "markdown",
   "id": "ca63d61b",
   "metadata": {},
   "source": [
    "# RIDGE REGRESSION\n"
   ]
  },
  {
   "cell_type": "code",
   "execution_count": 22,
   "id": "25561d30",
   "metadata": {},
   "outputs": [
    {
     "data": {
      "text/html": [
       "<style>#sk-container-id-3 {color: black;background-color: white;}#sk-container-id-3 pre{padding: 0;}#sk-container-id-3 div.sk-toggleable {background-color: white;}#sk-container-id-3 label.sk-toggleable__label {cursor: pointer;display: block;width: 100%;margin-bottom: 0;padding: 0.3em;box-sizing: border-box;text-align: center;}#sk-container-id-3 label.sk-toggleable__label-arrow:before {content: \"▸\";float: left;margin-right: 0.25em;color: #696969;}#sk-container-id-3 label.sk-toggleable__label-arrow:hover:before {color: black;}#sk-container-id-3 div.sk-estimator:hover label.sk-toggleable__label-arrow:before {color: black;}#sk-container-id-3 div.sk-toggleable__content {max-height: 0;max-width: 0;overflow: hidden;text-align: left;background-color: #f0f8ff;}#sk-container-id-3 div.sk-toggleable__content pre {margin: 0.2em;color: black;border-radius: 0.25em;background-color: #f0f8ff;}#sk-container-id-3 input.sk-toggleable__control:checked~div.sk-toggleable__content {max-height: 200px;max-width: 100%;overflow: auto;}#sk-container-id-3 input.sk-toggleable__control:checked~label.sk-toggleable__label-arrow:before {content: \"▾\";}#sk-container-id-3 div.sk-estimator input.sk-toggleable__control:checked~label.sk-toggleable__label {background-color: #d4ebff;}#sk-container-id-3 div.sk-label input.sk-toggleable__control:checked~label.sk-toggleable__label {background-color: #d4ebff;}#sk-container-id-3 input.sk-hidden--visually {border: 0;clip: rect(1px 1px 1px 1px);clip: rect(1px, 1px, 1px, 1px);height: 1px;margin: -1px;overflow: hidden;padding: 0;position: absolute;width: 1px;}#sk-container-id-3 div.sk-estimator {font-family: monospace;background-color: #f0f8ff;border: 1px dotted black;border-radius: 0.25em;box-sizing: border-box;margin-bottom: 0.5em;}#sk-container-id-3 div.sk-estimator:hover {background-color: #d4ebff;}#sk-container-id-3 div.sk-parallel-item::after {content: \"\";width: 100%;border-bottom: 1px solid gray;flex-grow: 1;}#sk-container-id-3 div.sk-label:hover label.sk-toggleable__label {background-color: #d4ebff;}#sk-container-id-3 div.sk-serial::before {content: \"\";position: absolute;border-left: 1px solid gray;box-sizing: border-box;top: 0;bottom: 0;left: 50%;z-index: 0;}#sk-container-id-3 div.sk-serial {display: flex;flex-direction: column;align-items: center;background-color: white;padding-right: 0.2em;padding-left: 0.2em;position: relative;}#sk-container-id-3 div.sk-item {position: relative;z-index: 1;}#sk-container-id-3 div.sk-parallel {display: flex;align-items: stretch;justify-content: center;background-color: white;position: relative;}#sk-container-id-3 div.sk-item::before, #sk-container-id-3 div.sk-parallel-item::before {content: \"\";position: absolute;border-left: 1px solid gray;box-sizing: border-box;top: 0;bottom: 0;left: 50%;z-index: -1;}#sk-container-id-3 div.sk-parallel-item {display: flex;flex-direction: column;z-index: 1;position: relative;background-color: white;}#sk-container-id-3 div.sk-parallel-item:first-child::after {align-self: flex-end;width: 50%;}#sk-container-id-3 div.sk-parallel-item:last-child::after {align-self: flex-start;width: 50%;}#sk-container-id-3 div.sk-parallel-item:only-child::after {width: 0;}#sk-container-id-3 div.sk-dashed-wrapped {border: 1px dashed gray;margin: 0 0.4em 0.5em 0.4em;box-sizing: border-box;padding-bottom: 0.4em;background-color: white;}#sk-container-id-3 div.sk-label label {font-family: monospace;font-weight: bold;display: inline-block;line-height: 1.2em;}#sk-container-id-3 div.sk-label-container {text-align: center;}#sk-container-id-3 div.sk-container {/* jupyter's `normalize.less` sets `[hidden] { display: none; }` but bootstrap.min.css set `[hidden] { display: none !important; }` so we also need the `!important` here to be able to override the default hidden behavior on the sphinx rendered scikit-learn.org. See: https://github.com/scikit-learn/scikit-learn/issues/21755 */display: inline-block !important;position: relative;}#sk-container-id-3 div.sk-text-repr-fallback {display: none;}</style><div id=\"sk-container-id-3\" class=\"sk-top-container\"><div class=\"sk-text-repr-fallback\"><pre>GridSearchCV(cv=5, estimator=Ridge(),\n",
       "             param_grid={&#x27;alpha&#x27;: [0.01, 0.02, 0.2, 0.5, 0.6, 0.7, 0.8, 1, 20,\n",
       "                                   30]})</pre><b>In a Jupyter environment, please rerun this cell to show the HTML representation or trust the notebook. <br />On GitHub, the HTML representation is unable to render, please try loading this page with nbviewer.org.</b></div><div class=\"sk-container\" hidden><div class=\"sk-item sk-dashed-wrapped\"><div class=\"sk-label-container\"><div class=\"sk-label sk-toggleable\"><input class=\"sk-toggleable__control sk-hidden--visually\" id=\"sk-estimator-id-5\" type=\"checkbox\" ><label for=\"sk-estimator-id-5\" class=\"sk-toggleable__label sk-toggleable__label-arrow\">GridSearchCV</label><div class=\"sk-toggleable__content\"><pre>GridSearchCV(cv=5, estimator=Ridge(),\n",
       "             param_grid={&#x27;alpha&#x27;: [0.01, 0.02, 0.2, 0.5, 0.6, 0.7, 0.8, 1, 20,\n",
       "                                   30]})</pre></div></div></div><div class=\"sk-parallel\"><div class=\"sk-parallel-item\"><div class=\"sk-item\"><div class=\"sk-label-container\"><div class=\"sk-label sk-toggleable\"><input class=\"sk-toggleable__control sk-hidden--visually\" id=\"sk-estimator-id-6\" type=\"checkbox\" ><label for=\"sk-estimator-id-6\" class=\"sk-toggleable__label sk-toggleable__label-arrow\">estimator: Ridge</label><div class=\"sk-toggleable__content\"><pre>Ridge()</pre></div></div></div><div class=\"sk-serial\"><div class=\"sk-item\"><div class=\"sk-estimator sk-toggleable\"><input class=\"sk-toggleable__control sk-hidden--visually\" id=\"sk-estimator-id-7\" type=\"checkbox\" ><label for=\"sk-estimator-id-7\" class=\"sk-toggleable__label sk-toggleable__label-arrow\">Ridge</label><div class=\"sk-toggleable__content\"><pre>Ridge()</pre></div></div></div></div></div></div></div></div></div></div>"
      ],
      "text/plain": [
       "GridSearchCV(cv=5, estimator=Ridge(),\n",
       "             param_grid={'alpha': [0.01, 0.02, 0.2, 0.5, 0.6, 0.7, 0.8, 1, 20,\n",
       "                                   30]})"
      ]
     },
     "execution_count": 22,
     "metadata": {},
     "output_type": "execute_result"
    }
   ],
   "source": [
    "#Model Tuning\n",
    "from sklearn.linear_model import Ridge \n",
    "from sklearn.model_selection import GridSearchCV\n",
    "parameter={'alpha':[0.01,0.02,0.2,0.5,0.6,0.7,0.8,1,20,30]}\n",
    "ridge=Ridge()\n",
    "grid= GridSearchCV(estimator=ridge, param_grid=parameter, cv=5)\n",
    "grid.fit(x_train,y_train)\n",
    "\n",
    "\n"
   ]
  },
  {
   "cell_type": "code",
   "execution_count": 23,
   "id": "04de7eb3",
   "metadata": {},
   "outputs": [
    {
     "data": {
      "text/plain": [
       "{'alpha': 30}"
      ]
     },
     "execution_count": 23,
     "metadata": {},
     "output_type": "execute_result"
    }
   ],
   "source": [
    "#Best parameters after cross validation\n",
    "grid.best_params_"
   ]
  },
  {
   "cell_type": "markdown",
   "id": "5cf4dba4",
   "metadata": {},
   "source": [
    "# Model Performance"
   ]
  },
  {
   "cell_type": "code",
   "execution_count": 73,
   "id": "67aca9e4",
   "metadata": {},
   "outputs": [
    {
     "name": "stdout",
     "output_type": "stream",
     "text": [
      "R2_SCORE 0.7133226109608608\n",
      "Mean_Squared_Error 0.26375425944585673\n",
      "Mean_Absolute_Error 0.4142196060051263\n"
     ]
    }
   ],
   "source": [
    "#Model Evaluation\n",
    "y_pred=grid.predict(x_test)\n",
    "rd_r2=r2_score(y_test,y_pred)\n",
    "print(\"R2_SCORE\",rd_r2)\n",
    "rd_mse=mean_squared_error(y_test,y_pred)\n",
    "print(\"Mean_Squared_Error\",rd_mse)\n",
    "rd_mae=mean_absolute_error(y_test,y_pred)\n",
    "print(\"Mean_Absolute_Error\",rd_mae)"
   ]
  },
  {
   "cell_type": "markdown",
   "id": "a66fc3c4",
   "metadata": {},
   "source": [
    "# MODEL COMPARISON"
   ]
  },
  {
   "cell_type": "code",
   "execution_count": 72,
   "id": "49d2f50b",
   "metadata": {},
   "outputs": [
    {
     "data": {
      "image/png": "[encoded data removed]",
      "text/plain": [
       "<Figure size 432x288 with 1 Axes>"
      ]
     },
     "metadata": {
      "needs_background": "light"
     },
     "output_type": "display_data"
    }
   ],
   "source": [
    "fig = plt.figure()\n",
    "ax = fig.add_axes([0,1,1,1]) \n",
    "ax.bar(['Linear Regression', 'Lasso Regression', 'RidgeRegression'],[lr_r2,las_r2, rd_r2],color=['black', 'blue', 'green'])\n",
    "plt.xlabel('Models')\n",
    "plt.ylabel('R2_SCORE')\n",
    "plt.title('R2_SCORE of the Models')\n",
    "plt.show()"
   ]
  },
  {
   "cell_type": "code",
   "execution_count": 76,
   "id": "57b28023",
   "metadata": {},
   "outputs": [
    {
     "data": {
      "image/png": "[encoded data removed]",
      "text/plain": [
       "<Figure size 432x288 with 1 Axes>"
      ]
     },
     "metadata": {
      "needs_background": "light"
     },
     "output_type": "display_data"
    }
   ],
   "source": [
    "fig = plt.figure()\n",
    "ax = fig.add_axes([0,1,1,1]) \n",
    "ax.bar(['Linear Regression', 'Lasso Regression', 'RidgeRegression'],[lr_mse,las_mse, rd_mse],color=['black', 'blue', 'green'])\n",
    "plt.xlabel('Models')\n",
    "plt.ylabel('Mean_Squared_Error')\n",
    "plt.title('Mean_Squared_Error of the Models')\n",
    "plt.show()"
   ]
  },
  {
   "cell_type": "code",
   "execution_count": 78,
   "id": "2b9f5e26",
   "metadata": {},
   "outputs": [
    {
     "data": {
      "image/png": "[encoded data removed]",
      "text/plain": [
       "<Figure size 432x288 with 1 Axes>"
      ]
     },
     "metadata": {
      "needs_background": "light"
     },
     "output_type": "display_data"
    }
   ],
   "source": [
    "fig = plt.figure()\n",
    "ax = fig.add_axes([0,1,1,1]) \n",
    "ax.bar(['Linear Regression', 'Lasso Regression', 'RidgeRegression'],[lr_mae,las_mae, rd_mae],color=['black', 'blue', 'green'])\n",
    "plt.xlabel('Models')\n",
    "plt.ylabel('Mean_Absolute_Error')\n",
    "plt.title('Mean_Absolute_Error of the Models')\n",
    "plt.show()"
   ]
  },
  {
   "cell_type": "markdown",
   "id": "248fddc5",
   "metadata": {},
   "source": [
    "# PART B"
   ]
  },
  {
   "cell_type": "code",
   "execution_count": null,
   "id": "08d1eb2d",
   "metadata": {},
   "outputs": [],
   "source": [
    "#linear Regression was implemented as the model provided best performance"
   ]
  },
  {
   "cell_type": "code",
   "execution_count": 79,
   "id": "b49e955c",
   "metadata": {},
   "outputs": [],
   "source": [
    "# HERE YOU WILL USE THIS TEMPLATE TO SAVE THE PREDICTIONS ON THE TEST SET\n",
    "\n",
    "# Load the test data\n",
    "test_df = pd.read_csv('CE802_P3_Test.csv')\n",
    "\n"
   ]
  },
  {
   "cell_type": "code",
   "execution_count": 80,
   "id": "4c675a7b",
   "metadata": {},
   "outputs": [],
   "source": [
    "# Make sure you work on a copy\n",
    "test_data = test_df.iloc[:,:-1].copy()\n",
    "\n"
   ]
  },
  {
   "cell_type": "code",
   "execution_count": 81,
   "id": "2865b293",
   "metadata": {},
   "outputs": [
    {
     "name": "stdout",
     "output_type": "stream",
     "text": [
      "<class 'pandas.core.frame.DataFrame'>\n",
      "RangeIndex: 1500 entries, 0 to 1499\n",
      "Data columns (total 36 columns):\n",
      " #   Column  Non-Null Count  Dtype  \n",
      "---  ------  --------------  -----  \n",
      " 0   F1      1500 non-null   float64\n",
      " 1   F2      1500 non-null   float64\n",
      " 2   F3      1500 non-null   float64\n",
      " 3   F4      1500 non-null   float64\n",
      " 4   F5      1500 non-null   object \n",
      " 5   F6      1500 non-null   float64\n",
      " 6   F7      1500 non-null   float64\n",
      " 7   F8      1500 non-null   float64\n",
      " 8   F9      1500 non-null   float64\n",
      " 9   F10     1500 non-null   float64\n",
      " 10  F11     1500 non-null   float64\n",
      " 11  F12     1500 non-null   float64\n",
      " 12  F13     1500 non-null   float64\n",
      " 13  F14     1500 non-null   float64\n",
      " 14  F15     1500 non-null   float64\n",
      " 15  F16     1500 non-null   float64\n",
      " 16  F17     1500 non-null   float64\n",
      " 17  F18     1500 non-null   float64\n",
      " 18  F19     1500 non-null   float64\n",
      " 19  F20     1500 non-null   float64\n",
      " 20  F21     1500 non-null   float64\n",
      " 21  F22     1500 non-null   float64\n",
      " 22  F23     1500 non-null   float64\n",
      " 23  F24     1500 non-null   float64\n",
      " 24  F25     1500 non-null   float64\n",
      " 25  F26     1500 non-null   int64  \n",
      " 26  F27     1500 non-null   int64  \n",
      " 27  F28     1500 non-null   float64\n",
      " 28  F29     1500 non-null   float64\n",
      " 29  F30     1500 non-null   float64\n",
      " 30  F31     1500 non-null   float64\n",
      " 31  F32     1500 non-null   float64\n",
      " 32  F33     1500 non-null   float64\n",
      " 33  F34     1500 non-null   object \n",
      " 34  F35     1500 non-null   float64\n",
      " 35  F36     1500 non-null   float64\n",
      "dtypes: float64(32), int64(2), object(2)\n",
      "memory usage: 410.2+ KB\n"
     ]
    }
   ],
   "source": [
    "test_data.info()"
   ]
  },
  {
   "cell_type": "code",
   "execution_count": 82,
   "id": "aa90378e",
   "metadata": {},
   "outputs": [],
   "source": [
    "X_test=test_df.loc[:,test_df.columns!=\"Target\"]"
   ]
  },
  {
   "cell_type": "code",
   "execution_count": 83,
   "id": "a5336535",
   "metadata": {},
   "outputs": [],
   "source": [
    "# Converting Ordinal Variable Rating to numeric\n",
    "X_test  = pd.get_dummies(X_test , columns=['F34'],drop_first=True)"
   ]
  },
  {
   "cell_type": "code",
   "execution_count": 84,
   "id": "51398332",
   "metadata": {},
   "outputs": [],
   "source": [
    "X_test['F5'].replace(['Very low', 'Low','Medium','High','Very high'],[0,1,2,3,4], inplace= True)"
   ]
  },
  {
   "cell_type": "code",
   "execution_count": 85,
   "id": "5666bf62",
   "metadata": {},
   "outputs": [
    {
     "data": {
      "text/html": [
       "<div>\n",
       "<style scoped>\n",
       "    .dataframe tbody tr th:only-of-type {\n",
       "        vertical-align: middle;\n",
       "    }\n",
       "\n",
       "    .dataframe tbody tr th {\n",
       "        vertical-align: top;\n",
       "    }\n",
       "\n",
       "    .dataframe thead th {\n",
       "        text-align: right;\n",
       "    }\n",
       "</style>\n",
       "<table border=\"1\" class=\"dataframe\">\n",
       "  <thead>\n",
       "    <tr style=\"text-align: right;\">\n",
       "      <th></th>\n",
       "      <th>F1</th>\n",
       "      <th>F2</th>\n",
       "      <th>F3</th>\n",
       "      <th>F4</th>\n",
       "      <th>F5</th>\n",
       "      <th>F6</th>\n",
       "      <th>F7</th>\n",
       "      <th>F8</th>\n",
       "      <th>F9</th>\n",
       "      <th>F10</th>\n",
       "      <th>...</th>\n",
       "      <th>F29</th>\n",
       "      <th>F30</th>\n",
       "      <th>F31</th>\n",
       "      <th>F32</th>\n",
       "      <th>F33</th>\n",
       "      <th>F35</th>\n",
       "      <th>F36</th>\n",
       "      <th>F34_Rest</th>\n",
       "      <th>F34_UK</th>\n",
       "      <th>F34_USA</th>\n",
       "    </tr>\n",
       "  </thead>\n",
       "  <tbody>\n",
       "    <tr>\n",
       "      <th>0</th>\n",
       "      <td>43.32</td>\n",
       "      <td>-186.00</td>\n",
       "      <td>-222.53</td>\n",
       "      <td>87.83</td>\n",
       "      <td>3</td>\n",
       "      <td>14.85</td>\n",
       "      <td>-109.49</td>\n",
       "      <td>5648.04</td>\n",
       "      <td>-3589.64</td>\n",
       "      <td>-196.44</td>\n",
       "      <td>...</td>\n",
       "      <td>2028.74</td>\n",
       "      <td>-73.92</td>\n",
       "      <td>-6.70</td>\n",
       "      <td>7.88</td>\n",
       "      <td>17.80</td>\n",
       "      <td>-192.90</td>\n",
       "      <td>-912.06</td>\n",
       "      <td>0</td>\n",
       "      <td>0</td>\n",
       "      <td>0</td>\n",
       "    </tr>\n",
       "    <tr>\n",
       "      <th>1</th>\n",
       "      <td>40.06</td>\n",
       "      <td>-80.16</td>\n",
       "      <td>-233.96</td>\n",
       "      <td>78.11</td>\n",
       "      <td>0</td>\n",
       "      <td>19.47</td>\n",
       "      <td>-147.48</td>\n",
       "      <td>19604.82</td>\n",
       "      <td>-6077.54</td>\n",
       "      <td>-150.54</td>\n",
       "      <td>...</td>\n",
       "      <td>197.22</td>\n",
       "      <td>-74.04</td>\n",
       "      <td>-3.36</td>\n",
       "      <td>14.71</td>\n",
       "      <td>12.56</td>\n",
       "      <td>-272.52</td>\n",
       "      <td>-1500.16</td>\n",
       "      <td>0</td>\n",
       "      <td>1</td>\n",
       "      <td>0</td>\n",
       "    </tr>\n",
       "    <tr>\n",
       "      <th>2</th>\n",
       "      <td>13.19</td>\n",
       "      <td>-173.50</td>\n",
       "      <td>-173.52</td>\n",
       "      <td>95.18</td>\n",
       "      <td>3</td>\n",
       "      <td>-19.47</td>\n",
       "      <td>-162.54</td>\n",
       "      <td>19426.29</td>\n",
       "      <td>-4573.22</td>\n",
       "      <td>-162.06</td>\n",
       "      <td>...</td>\n",
       "      <td>1210.08</td>\n",
       "      <td>-60.42</td>\n",
       "      <td>-2.34</td>\n",
       "      <td>15.36</td>\n",
       "      <td>17.69</td>\n",
       "      <td>-304.50</td>\n",
       "      <td>-1674.76</td>\n",
       "      <td>1</td>\n",
       "      <td>0</td>\n",
       "      <td>0</td>\n",
       "    </tr>\n",
       "    <tr>\n",
       "      <th>3</th>\n",
       "      <td>55.10</td>\n",
       "      <td>-45.82</td>\n",
       "      <td>-236.11</td>\n",
       "      <td>128.31</td>\n",
       "      <td>2</td>\n",
       "      <td>16.05</td>\n",
       "      <td>-150.76</td>\n",
       "      <td>19828.65</td>\n",
       "      <td>-4126.90</td>\n",
       "      <td>-88.62</td>\n",
       "      <td>...</td>\n",
       "      <td>940.92</td>\n",
       "      <td>-112.68</td>\n",
       "      <td>-5.30</td>\n",
       "      <td>9.24</td>\n",
       "      <td>18.61</td>\n",
       "      <td>-399.24</td>\n",
       "      <td>-1074.56</td>\n",
       "      <td>0</td>\n",
       "      <td>0</td>\n",
       "      <td>0</td>\n",
       "    </tr>\n",
       "    <tr>\n",
       "      <th>4</th>\n",
       "      <td>-5.31</td>\n",
       "      <td>-234.50</td>\n",
       "      <td>-179.52</td>\n",
       "      <td>137.01</td>\n",
       "      <td>2</td>\n",
       "      <td>15.78</td>\n",
       "      <td>-109.02</td>\n",
       "      <td>12212.55</td>\n",
       "      <td>-4805.98</td>\n",
       "      <td>-140.72</td>\n",
       "      <td>...</td>\n",
       "      <td>950.14</td>\n",
       "      <td>-95.40</td>\n",
       "      <td>-2.26</td>\n",
       "      <td>20.73</td>\n",
       "      <td>18.49</td>\n",
       "      <td>-254.19</td>\n",
       "      <td>-1013.19</td>\n",
       "      <td>0</td>\n",
       "      <td>0</td>\n",
       "      <td>0</td>\n",
       "    </tr>\n",
       "  </tbody>\n",
       "</table>\n",
       "<p>5 rows × 38 columns</p>\n",
       "</div>"
      ],
      "text/plain": [
       "      F1      F2      F3      F4  F5     F6      F7        F8       F9  \\\n",
       "0  43.32 -186.00 -222.53   87.83   3  14.85 -109.49   5648.04 -3589.64   \n",
       "1  40.06  -80.16 -233.96   78.11   0  19.47 -147.48  19604.82 -6077.54   \n",
       "2  13.19 -173.50 -173.52   95.18   3 -19.47 -162.54  19426.29 -4573.22   \n",
       "3  55.10  -45.82 -236.11  128.31   2  16.05 -150.76  19828.65 -4126.90   \n",
       "4  -5.31 -234.50 -179.52  137.01   2  15.78 -109.02  12212.55 -4805.98   \n",
       "\n",
       "      F10  ...      F29     F30   F31    F32    F33     F35      F36  \\\n",
       "0 -196.44  ...  2028.74  -73.92 -6.70   7.88  17.80 -192.90  -912.06   \n",
       "1 -150.54  ...   197.22  -74.04 -3.36  14.71  12.56 -272.52 -1500.16   \n",
       "2 -162.06  ...  1210.08  -60.42 -2.34  15.36  17.69 -304.50 -1674.76   \n",
       "3  -88.62  ...   940.92 -112.68 -5.30   9.24  18.61 -399.24 -1074.56   \n",
       "4 -140.72  ...   950.14  -95.40 -2.26  20.73  18.49 -254.19 -1013.19   \n",
       "\n",
       "   F34_Rest  F34_UK  F34_USA  \n",
       "0         0       0        0  \n",
       "1         0       1        0  \n",
       "2         1       0        0  \n",
       "3         0       0        0  \n",
       "4         0       0        0  \n",
       "\n",
       "[5 rows x 38 columns]"
      ]
     },
     "execution_count": 85,
     "metadata": {},
     "output_type": "execute_result"
    }
   ],
   "source": [
    "X_test.head()"
   ]
  },
  {
   "cell_type": "code",
   "execution_count": 86,
   "id": "3b75ba5a",
   "metadata": {},
   "outputs": [],
   "source": [
    "predicted =lr.predict(X_test)\n",
    "# CHANGE HERE -- use your previously trained predictor and apply it to test_data\n",
    "                # (test_data can be modified if needed but make sure you don't change the order of the rows)..."
   ]
  },
  {
   "cell_type": "code",
   "execution_count": 87,
   "id": "c5156675",
   "metadata": {},
   "outputs": [],
   "source": [
    "\n",
    "\n",
    "# Replace the last (empty) column with your prediction\n",
    "test_df.iloc[:,-1] = predicted\n",
    "\n"
   ]
  },
  {
   "cell_type": "code",
   "execution_count": 88,
   "id": "ba6a9302",
   "metadata": {},
   "outputs": [],
   "source": [
    "# Save to the destination file\n",
    "test_df.to_csv('CE802_P3_Test_Predictions.csv', index=False, float_format='%.8g')\n",
    "\n"
   ]
  },
  {
   "cell_type": "code",
   "execution_count": 89,
   "id": "4ed1f93e",
   "metadata": {},
   "outputs": [],
   "source": [
    "# IMPORTANT!! Make sure only the last column has changed\n",
    "assert pd.read_csv('CE802_P3_Test.csv').iloc[:,:-1].equals(pd.read_csv('CE802_P3_Test_Predictions.csv').iloc[:,:-1])"
   ]
  },
  {
   "cell_type": "code",
   "execution_count": 90,
   "id": "815712f6",
   "metadata": {},
   "outputs": [],
   "source": [
    "test_df.to_csv('CE802_P3_Test.csv', index=False, float_format='%.8g')"
   ]
  },
  {
   "cell_type": "code",
   "execution_count": null,
   "id": "c5522c3a",
   "metadata": {},
   "outputs": [],
   "source": []
  }
 ],
 "metadata": {
  "kernelspec": {
   "display_name": "Python 3",
   "language": "python",
   "name": "python3"
  },
  "language_info": {
   "codemirror_mode": {
    "name": "ipython",
    "version": 3
   },
   "file_extension": ".py",
   "mimetype": "text/x-python",
   "name": "python",
   "nbconvert_exporter": "python",
   "pygments_lexer": "ipython3",
   "version": "3.8.8"
  }
 },
 "nbformat": 4,
 "nbformat_minor": 5
}
